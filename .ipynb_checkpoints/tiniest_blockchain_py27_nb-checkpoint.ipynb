{
 "cells": [
  {
   "cell_type": "markdown",
   "metadata": {},
   "source": [
    "### Example designed for Python 2 env\n",
    "https://medium.com/crypto-currently/lets-build-the-tiniest-blockchain-e70965a248b"
   ]
  },
  {
   "cell_type": "code",
   "execution_count": 1,
   "metadata": {
    "collapsed": true
   },
   "outputs": [],
   "source": [
    "import hashlib as hasher\n",
    "\n",
    "\n",
    "class Block:\n",
    "    def __init__(self, index, timestamp, data, previous_hash):\n",
    "        self.index = index\n",
    "        self.timestamp = timestamp\n",
    "        self.data = data\n",
    "        self.previous_hash = previous_hash\n",
    "        self.hash = self.hash_block()\n",
    "\n",
    "    def hash_block(self):\n",
    "        sha = hasher.sha256()\n",
    "        sha.update(str(self.index) +\n",
    "                   str(self.timestamp) +\n",
    "                   str(self.data) +\n",
    "                   str(self.previous_hash))\n",
    "        return sha.hexdigest()"
   ]
  },
  {
   "cell_type": "code",
   "execution_count": 3,
   "metadata": {
    "collapsed": true
   },
   "outputs": [],
   "source": [
    "import datetime as date\n",
    "\n",
    "def create_genesis_block():\n",
    "    # Manually construct a block with\n",
    "    # index zero and arbitrary previous hash\n",
    "    return Block(0, date.datetime.now(), \"Genesis Block\", \"0\")"
   ]
  },
  {
   "cell_type": "code",
   "execution_count": 4,
   "metadata": {
    "collapsed": true
   },
   "outputs": [],
   "source": [
    "def next_block(last_block):\n",
    "    this_index = last_block.index + 1\n",
    "    this_timestamp = date.datetime.now()\n",
    "    this_data = \"Hey! I'm block \" + str(this_index)\n",
    "    this_hash = last_block.hash\n",
    "    return Block(this_index, this_timestamp, this_data, this_hash)"
   ]
  },
  {
   "cell_type": "code",
   "execution_count": 6,
   "metadata": {},
   "outputs": [
    {
     "name": "stdout",
     "output_type": "stream",
     "text": [
      "Block #1 has been added to the blockchain!\n",
      "Hash: b65a39aa02b34f0ecf2755c5db1dbd5a4d2d6509dbb6ee3d621823db1ddbb9cf\n",
      "\n",
      "Block #2 has been added to the blockchain!\n",
      "Hash: 70827b965f035a842e210dd11cfca8f98d0484c4d54b58d5e72e05ff4e459b06\n",
      "\n",
      "Block #3 has been added to the blockchain!\n",
      "Hash: bbb0b417b116283ff6af78b874e8ea6152f3585960751dfc3b312b0f52af6756\n",
      "\n",
      "Block #4 has been added to the blockchain!\n",
      "Hash: 70744e76b00766e763bcd0684fcad38b5ac9b9765a7909b223ef47f296d24e0d\n",
      "\n",
      "Block #5 has been added to the blockchain!\n",
      "Hash: 9f704f53d96a0693e0bc4f33bedb6029c2cbcc7afaed4c5fc675d14306985843\n",
      "\n",
      "Block #6 has been added to the blockchain!\n",
      "Hash: 1e3247b105ee01330e730f3709e0cd7ea9e40daa649663b3318e161f0260ac4a\n",
      "\n",
      "Block #7 has been added to the blockchain!\n",
      "Hash: a35b2b1b42575c8d558a5a9fd1668bdcaa6a5477183fdf72465b11e4faa314a2\n",
      "\n",
      "Block #8 has been added to the blockchain!\n",
      "Hash: f5003bbb2c7c76b56b8815f395e13c4a33bc993cf1bff1574d45c54f337dda46\n",
      "\n",
      "Block #9 has been added to the blockchain!\n",
      "Hash: c0c300fb0194103ea5ecb3529056c2570d3ab56e32d40745b22395be337a048c\n",
      "\n",
      "Block #10 has been added to the blockchain!\n",
      "Hash: e5d056b93070f6e5498aded6a7f18501c51d522d463a80911c2c980a9cb476be\n",
      "\n",
      "Block #11 has been added to the blockchain!\n",
      "Hash: 89f32d136231c45564916d0ad7a1eb3777739e3ad05e76f0975def7795cd5bfa\n",
      "\n",
      "Block #12 has been added to the blockchain!\n",
      "Hash: 01f1063130e221b423a59f11c64f1590bfbdef9b8acd58aee167313dec8ecb44\n",
      "\n",
      "Block #13 has been added to the blockchain!\n",
      "Hash: 30942a632f2edeabefc0fad4e51f7f46cbc7f26efaad636db61e4394ac9e63a5\n",
      "\n",
      "Block #14 has been added to the blockchain!\n",
      "Hash: daf70f92d234ecf1623aaf4638a5395f4d46e70caeba6667cee3651056e13334\n",
      "\n",
      "Block #15 has been added to the blockchain!\n",
      "Hash: 05c6b802cd95d601615fda049a9cb351495bb043fe7ecd625a3c2049aaa8bb9f\n",
      "\n",
      "Block #16 has been added to the blockchain!\n",
      "Hash: e18733461bbef7353dcdd26d784a56ac4f85087d939e17671634f3266f397204\n",
      "\n",
      "Block #17 has been added to the blockchain!\n",
      "Hash: 268b8b6f2c9bd2bffa33507c89d5c013a138e236d41d4c685b8ac0da0d7aed21\n",
      "\n",
      "Block #18 has been added to the blockchain!\n",
      "Hash: 7d5819e4e94b24d5877aed06497969b97bd55fe2c9c19da75f4935541b4b6de0\n",
      "\n",
      "Block #19 has been added to the blockchain!\n",
      "Hash: 28c5ba1cde1ab5b8923d63f293fe78c8894ba669148368309063380492b65d39\n",
      "\n",
      "Block #20 has been added to the blockchain!\n",
      "Hash: 590a7d9962a99db5b80726e9094bfb78b30915a0116cf1fb163335428b7feed6\n",
      "\n"
     ]
    }
   ],
   "source": [
    "\n",
    "# Create the blockchain and add the genesis block\n",
    "blockchain = [create_genesis_block()]\n",
    "previous_block = blockchain[0]\n",
    "\n",
    "# How many blocks should we add to the chain\n",
    "# after the genesis block\n",
    "num_of_blocks_to_add = 20\n",
    "\n",
    "# Add blocks to the chain\n",
    "for i in range(0, num_of_blocks_to_add):\n",
    "    block_to_add = next_block(previous_block)\n",
    "    blockchain.append(block_to_add)\n",
    "    previous_block = block_to_add\n",
    "    # Tell everyone about it!\n",
    "    print \"Block #{} has been added to the blockchain!\".format(block_to_add.index)\n",
    "    print \"Hash: {}\\n\".format(block_to_add.hash) "
   ]
  },
  {
   "cell_type": "code",
   "execution_count": null,
   "metadata": {
    "collapsed": true
   },
   "outputs": [],
   "source": []
  }
 ],
 "metadata": {
  "kernelspec": {
   "display_name": "Python 2",
   "language": "python",
   "name": "python2"
  },
  "language_info": {
   "codemirror_mode": {
    "name": "ipython",
    "version": 2
   },
   "file_extension": ".py",
   "mimetype": "text/x-python",
   "name": "python",
   "nbconvert_exporter": "python",
   "pygments_lexer": "ipython2",
   "version": "2.7.13"
  }
 },
 "nbformat": 4,
 "nbformat_minor": 2
}
