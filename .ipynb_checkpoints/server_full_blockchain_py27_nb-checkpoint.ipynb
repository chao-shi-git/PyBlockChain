{
 "cells": [
  {
   "cell_type": "markdown",
   "metadata": {},
   "source": [
    "### Part 2\n",
    "https://medium.com/crypto-currently/lets-make-the-tiniest-blockchain-bigger-ac360a328f4d\n",
    "\n",
    "https://gist.github.com/aunyks/47d157f8bc7d1829a729c2a6a919c173"
   ]
  },
  {
   "cell_type": "code",
   "execution_count": 2,
   "metadata": {},
   "outputs": [
    {
     "name": "stderr",
     "output_type": "stream",
     "text": [
      " * Running on http://127.0.0.1:5000/ (Press CTRL+C to quit)\n",
      "127.0.0.1 - - [01/Feb/2018 19:27:00] \"GET / HTTP/1.1\" 404 -\n",
      "127.0.0.1 - - [01/Feb/2018 19:44:11] \"GET /mine HTTP/1.1\" 404 -\n"
     ]
    }
   ],
   "source": [
    "\n",
    "from flask import Flask\n",
    "from flask import request\n",
    "node = Flask(__name__)\n",
    "\n",
    "# Store the transactions that\n",
    "# this node has in a list\n",
    "this_nodes_transactions = []\n",
    "\n",
    "@node.route('/txion', methods=['POST'])\n",
    "def transaction():\n",
    "    if request.method == 'POST':\n",
    "        # On each new POST request,\n",
    "        # we extract the transaction data\n",
    "        new_txion = request.get_json()\n",
    "        # Then we add the transaction to our list\n",
    "        this_nodes_transactions.append(new_txion)\n",
    "        # Because the transaction was successfully\n",
    "        # submitted, we log it to our console\n",
    "        print \"New transaction\"\n",
    "        print \"FROM: {}\".format(new_txion['from'])\n",
    "        print \"TO: {}\".format(new_txion['to'])\n",
    "        print \"AMOUNT: {}\\n\".format(new_txion['amount'])\n",
    "        # Then we let the client know it worked out\n",
    "        return \"Transaction submission successful\\n\"\n",
    "\n",
    "node.run()"
   ]
  },
  {
   "cell_type": "markdown",
   "metadata": {},
   "source": [
    "## Proof-of-Work (PoW)"
   ]
  },
  {
   "cell_type": "code",
   "execution_count": 3,
   "metadata": {
    "collapsed": true
   },
   "outputs": [],
   "source": [
    "# ...blockchain\n",
    "# ...Block class definition\n",
    "\n",
    "miner_address = \"q3nf394hjg-random-miner-address-34nf3i4nflkn3oi\"\n",
    "\n",
    "def proof_of_work(last_proof):\n",
    "    # Create a variable that we will use to find our next proof of work\n",
    "    incrementor = last_proof + 1\n",
    "    # Keep incrementing the incrementor until it's equal to a number\n",
    "    # divisible by 9 and the proof of work of the previous block in the chain\n",
    "    while not (incrementor % 9 == 0 and incrementor % last_proof == 0):\n",
    "        incrementor += 1\n",
    "    # Once that number is found, we can return it as a proof of our work\n",
    "    return incrementor\n",
    "\n",
    "@node.route('/mine', methods = ['GET'])\n",
    "def mine():\n",
    "    # Get the last proof of work\n",
    "    last_block = blockchain[len(blockchain) - 1]\n",
    "    last_proof = last_block.data['proof-of-work']\n",
    "    # Find the proof of work for the current block being mined\n",
    "    # Note: The program will hang here until a new proof of work is found\n",
    "    proof = proof_of_work(last_proof)\n",
    "    # Once we find a valid proof of work, we know we can mine a block so \n",
    "    # we reward the miner by adding a transaction\n",
    "    this_nodes_transactions.append(\n",
    "        { \"from\": \"network\", \"to\": miner_address, \"amount\": 1 }\n",
    "    )\n",
    "    # Now we can gather the data needed to create the new block\n",
    "    new_block_data = {\n",
    "        \"proof-of-work\": proof,\n",
    "        \"transactions\": list(this_nodes_transactions)\n",
    "    }\n",
    "    new_block_index = last_block.index + 1\n",
    "    new_block_timestamp = this_timestamp = date.datetime.now()\n",
    "    last_block_hash = last_block.hash\n",
    "    # Empty transaction list\n",
    "    this_nodes_transactions[:] = []\n",
    "    # Now create the new block!\n",
    "    mined_block = Block(\n",
    "        new_block_index,\n",
    "        new_block_timestamp,\n",
    "        new_block_data,\n",
    "        last_block_hash\n",
    "    )\n",
    "    blockchain.append(mined_block)\n",
    "    # Let the client know we mined a block\n",
    "    return json.dumps({\n",
    "        \"index\": new_block_index,\n",
    "        \"timestamp\": str(new_block_timestamp),\n",
    "        \"data\": new_block_data,\n",
    "        \"hash\": last_block_hash\n",
    "    }) + \"\\n\""
   ]
  },
  {
   "cell_type": "markdown",
   "metadata": {},
   "source": [
    "## Concensus Algorithm"
   ]
  },
  {
   "cell_type": "code",
   "execution_count": null,
   "metadata": {
    "collapsed": true
   },
   "outputs": [],
   "source": [
    "@node.route('/blocks', methods=['GET'])\n",
    "def get_blocks():\n",
    "    chain_to_send = blockchain\n",
    "    # Convert our blocks into dictionaries\n",
    "    # so we can send them as json objects later\n",
    "    for block in chain_to_send:\n",
    "        block_index = str(block.index)\n",
    "        block_timestamp = str(block.timestamp)\n",
    "        block_data = str(block.data)\n",
    "        block_hash = block.hash\n",
    "        block = {\n",
    "            \"index\": block_index,\n",
    "            \"timestamp\": block_timestamp,\n",
    "            \"data\": block_data,\n",
    "            \"hash\": block_hash\n",
    "        }\n",
    "    # Send our chain to whomever requested it\n",
    "    chain_to_send = json.dumps(chain_to_send)\n",
    "    return chain_to_send\n",
    "\n",
    "def find_new_chains():\n",
    "    # Get the blockchains of every other node\n",
    "    other_chains = []\n",
    "    for node_url in peer_nodes:\n",
    "        # Get their chains using a GET request\n",
    "        block = requests.get(node_url + \"/blocks\").content\n",
    "        # Convert the JSON object to a Python dictionary\n",
    "        block = json.loads(block)\n",
    "        # Add it to our list\n",
    "        other_chains.append(block)\n",
    "    return other_chains\n",
    "\n",
    "def consensus():\n",
    "    # Get the blocks from other nodes\n",
    "    other_chains = find_new_chains()\n",
    "    # If our chain isn't longest, then we store the longest chain\n",
    "    longest_chain = blockchain\n",
    "    for chain in other_chains:\n",
    "        if len(longest_chain) < len(chain):\n",
    "            longest_chain = chain\n",
    "    # If the longest chain wasn't ours, then we set our chain to the longest\n",
    "    blockchain = longest_chain"
   ]
  }
 ],
 "metadata": {
  "kernelspec": {
   "display_name": "Python 2",
   "language": "python",
   "name": "python2"
  },
  "language_info": {
   "codemirror_mode": {
    "name": "ipython",
    "version": 2
   },
   "file_extension": ".py",
   "mimetype": "text/x-python",
   "name": "python",
   "nbconvert_exporter": "python",
   "pygments_lexer": "ipython2",
   "version": "2.7.13"
  }
 },
 "nbformat": 4,
 "nbformat_minor": 2
}
